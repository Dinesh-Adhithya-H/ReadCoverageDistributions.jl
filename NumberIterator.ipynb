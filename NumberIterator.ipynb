{
 "cells": [
  {
   "cell_type": "code",
   "execution_count": 102,
   "id": "abb14d1b-b00b-4012-a17d-72b3ed5461a4",
   "metadata": {},
   "outputs": [],
   "source": [
    "struct IslandIteratorState\n",
    "    pos\n",
    "end\n",
    "\n",
    "\n",
    "struct IslandIterator\n",
    "    read_start_pos\n",
    "    read_length\n",
    "end\n",
    "\n",
    "\n",
    "function Base.iterate(iter::IslandIterator, state = nothing)\n",
    "    \n",
    "    \n",
    "    pos = isnothing(state) ? 1 : state.pos\n",
    "    no_reads = 1\n",
    "    \n",
    "    pos == length(iter.read_start_pos) && return ((1,iter.read_length), IslandIteratorState(pos+1))\n",
    "    pos>length(iter.read_start_pos) && return nothing\n",
    "\n",
    "    while iter.read_start_pos[pos]+iter.read_length>=iter.read_start_pos[pos+1]\n",
    "        pos += 1\n",
    "        no_reads+=1\n",
    "        pos == length(iter.read_start_pos) && return  ((no_reads,iter.read_length+iter.read_start_pos[pos]-iter.read_start_pos[pos-no_reads+1]), IslandIteratorState(pos + 1))\n",
    "    end\n",
    "    \n",
    "    return ((no_reads,iter.read_length+iter.read_start_pos[pos]-iter.read_start_pos[pos-no_reads+1]), IslandIteratorState(pos + 1))\n",
    "end"
   ]
  },
  {
   "cell_type": "code",
   "execution_count": 134,
   "id": "7a2c8acc-3bad-4d5e-a6ca-958d00dda5c6",
   "metadata": {},
   "outputs": [],
   "source": [
    "# test\n",
    "genome_length=10^7\n",
    "no_reads=10^6\n",
    "g = rand(1:0.000001:genome_length,no_reads)\n",
    "\n",
    "#g=[1,4.0,5.0,8.0,10.0,23.0,27.0]\n",
    "g=sort(g)\n",
    "\n",
    "read_length=3\n",
    "\n",
    "data=[]\n",
    "for l in IslandIterator(g,read_length)\n",
    "\tpush!(data,l)\n",
    "end"
   ]
  },
  {
   "cell_type": "code",
   "execution_count": 135,
   "id": "3ad84f36-8d49-4299-9a62-297e7d76db10",
   "metadata": {},
   "outputs": [
    {
     "data": {
      "text/plain": [
       "740411-element Vector{Any}:\n",
       " (1, 3.0)\n",
       " (2, 3.090859)\n",
       " (2, 3.5355970000000028)\n",
       " (2, 3.9333699999999965)\n",
       " (1, 3.0)\n",
       " (1, 3.0)\n",
       " (1, 3.0)\n",
       " (3, 6.781170000000003)\n",
       " (1, 3.0)\n",
       " (1, 3.0)\n",
       " (1, 3.0)\n",
       " (1, 3.0)\n",
       " (1, 3.0)\n",
       " ⋮\n",
       " (1, 3.0)\n",
       " (1, 3.0)\n",
       " (2, 3.105739999562502)\n",
       " (1, 3.0)\n",
       " (1, 3.0)\n",
       " (1, 3.0)\n",
       " (1, 3.0)\n",
       " (1, 3.0)\n",
       " (1, 3.0)\n",
       " (1, 3.0)\n",
       " (1, 3.0)\n",
       " (1, 3)"
      ]
     },
     "execution_count": 135,
     "metadata": {},
     "output_type": "execute_result"
    }
   ],
   "source": [
    "data"
   ]
  },
  {
   "cell_type": "code",
   "execution_count": 140,
   "id": "8d4964f1-e589-43ec-b98c-d3401a39a3f6",
   "metadata": {},
   "outputs": [],
   "source": [
    "data_2=[]\n",
    "for i in data\n",
    "    if i[1]==4\n",
    "        push!(data_2,i[2])\n",
    "    end\n",
    "end"
   ]
  },
  {
   "cell_type": "code",
   "execution_count": 141,
   "id": "41248d21-5870-4e12-a0d3-4807a7e38137",
   "metadata": {},
   "outputs": [
    {
     "data": {
      "image/png": "[encoded data removed]",
      "text/plain": [
       "Figure(PyObject <Figure size 640x480 with 1 Axes>)"
      ]
     },
     "metadata": {},
     "output_type": "display_data"
    },
    {
     "data": {
      "text/plain": [
       "([60.0, 407.0, 984.0, 1672.0, 2123.0, 1897.0, 1347.0, 679.0, 256.0, 36.0], [3.0595289999619126, 3.9432094999589027, 4.826889999955893, 5.710570499952882, 6.594250999949873, 7.4779314999468625, 8.361611999943852, 9.245292499940842, 10.128972999937833, 11.012653499934821, 11.896333999931812], (PyObject <matplotlib.patches.Rectangle object at 0x7fd5616b9e50>, PyObject <matplotlib.patches.Rectangle object at 0x7fd5616b9cd0>, PyObject <matplotlib.patches.Rectangle object at 0x7fd5632cd370>, PyObject <matplotlib.patches.Rectangle object at 0x7fd5632cd640>, PyObject <matplotlib.patches.Rectangle object at 0x7fd5632cd910>, PyObject <matplotlib.patches.Rectangle object at 0x7fd5632cdbe0>, PyObject <matplotlib.patches.Rectangle object at 0x7fd5632cdeb0>, PyObject <matplotlib.patches.Rectangle object at 0x7fd5632dd1c0>, PyObject <matplotlib.patches.Rectangle object at 0x7fd5632dd490>, PyObject <matplotlib.patches.Rectangle object at 0x7fd5632dd760>))"
      ]
     },
     "execution_count": 141,
     "metadata": {},
     "output_type": "execute_result"
    }
   ],
   "source": [
    "using PyPlot\n",
    "hist(data_2)"
   ]
  },
  {
   "cell_type": "code",
   "execution_count": 95,
   "id": "ce780566-a852-4115-9d6a-1aa8dc920832",
   "metadata": {},
   "outputs": [],
   "source": [
    "starts = [3, 5, 9, 40]\n",
    "length_read = 3\n",
    "data=[]\n",
    "for l in IslandIterator(starts,length_read)\n",
    "    push!(data,l)\n",
    "end"
   ]
  },
  {
   "cell_type": "code",
   "execution_count": 97,
   "id": "756e5973-d6b9-4124-982a-544cfbc7595b",
   "metadata": {},
   "outputs": [
    {
     "data": {
      "text/plain": [
       "true"
      ]
     },
     "execution_count": 97,
     "metadata": {},
     "output_type": "execute_result"
    }
   ],
   "source": [
    "data==[(2, 5), (1, 3), (1, 3)]"
   ]
  },
  {
   "cell_type": "code",
   "execution_count": 36,
   "id": "aa81ecb1-1b89-4d7e-8ed9-474f06ce6d82",
   "metadata": {},
   "outputs": [
    {
     "name": "stdout",
     "output_type": "stream",
     "text": [
      "(2, 5.0)(1, 3.0)(2, 4.0)"
     ]
    }
   ],
   "source": [
    "for i in IslandIterator(starts, length_read)\n",
    "    print(i)\n",
    "end"
   ]
  },
  {
   "cell_type": "code",
   "execution_count": 38,
   "id": "65b8bfac-6121-48e8-97db-d82478c7b6ff",
   "metadata": {},
   "outputs": [],
   "source": [
    "#collect(IslandIterator(starts, length_read))"
   ]
  },
  {
   "cell_type": "code",
   "execution_count": 40,
   "id": "da024063-98b3-4d42-a67e-c44d80cf2bfb",
   "metadata": {},
   "outputs": [],
   "source": [
    "#collect(1:5)"
   ]
  },
  {
   "cell_type": "code",
   "execution_count": null,
   "id": "043f5d49-6bf7-47ae-8a3c-165c87428b66",
   "metadata": {},
   "outputs": [],
   "source": []
  },
  {
   "cell_type": "code",
   "execution_count": null,
   "id": "329f4053-9305-4fc0-93c0-689006b78374",
   "metadata": {},
   "outputs": [],
   "source": []
  }
 ],
 "metadata": {
  "kernelspec": {
   "display_name": "Julia 1.6.0",
   "language": "julia",
   "name": "julia-1.6"
  },
  "language_info": {
   "file_extension": ".jl",
   "mimetype": "application/julia",
   "name": "julia",
   "version": "1.6.0"
  }
 },
 "nbformat": 4,
 "nbformat_minor": 5
}
